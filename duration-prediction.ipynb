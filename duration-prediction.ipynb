{
 "cells": [
  {
   "cell_type": "markdown",
   "id": "23abd962",
   "metadata": {},
   "source": [
    "# NYC Taxi Trip Duration Prediction\n",
    "\n",
    "This notebook demonstrates an end-to-end machine learning workflow for predicting taxi trip durations using NYC Yellow Taxi data. The workflow includes:\n",
    "\n",
    "1. Data loading and preprocessing of NYC taxi trip data\n",
    "2. Feature engineering and data cleaning\n",
    "3. Training multiple regression models (Linear Regression, XGBoost)\n",
    "4. Model evaluation using metrics like RMSE and R²\n",
    "5. Model tracking and versioning with MLflow\n",
    "6. Model registration and deployment preparation\n",
    "\n",
    "The notebook showcases MLOps best practices including experiment tracking, model versioning, and reproducible workflows.\n"
   ]
  },
  {
   "cell_type": "code",
   "execution_count": 12,
   "id": "initial_id",
   "metadata": {
    "ExecuteTime": {
     "end_time": "2025-03-16T12:39:29.102075Z",
     "start_time": "2025-03-16T12:39:27.042148Z"
    },
    "collapsed": true
   },
   "outputs": [],
   "source": [
    "import pandas as pd # working with tabular data\n",
    "import pickle # for machine learning models\n",
    "import seaborn as sns # visualization\n",
    "import matplotlib.pyplot as plt # visualization\n",
    "\n",
    "from sklearn.feature_extraction import DictVectorizer # Machine Learning\n",
    "from sklearn.linear_model import LinearRegression # Machine Learning\n",
    "from sklearn.linear_model import Lasso # Regularization\n",
    "from sklearn.linear_model import Ridge # Regularization\n",
    "\n",
    "from sklearn.metrics import mean_squared_error, r2_score, root_mean_squared_error # Loss Function\n",
    "from mlflow.models import infer_signature"
   ]
  },
  {
   "cell_type": "code",
   "execution_count": 2,
   "id": "8a2c0b2298fd95d3",
   "metadata": {
    "ExecuteTime": {
     "end_time": "2025-03-16T12:39:42.070015Z",
     "start_time": "2025-03-16T12:39:40.901374Z"
    },
    "collapsed": false
   },
   "outputs": [
    {
     "data": {
      "text/plain": [
       "<Experiment: artifact_location='/home/chogerlate/Documents/github/cpe393/cpe393-mlflow/mlruns/1', creation_time=1743007869912, experiment_id='1', last_update_time=1743007869912, lifecycle_stage='active', name='mlops_nyc_taxi', tags={}>"
      ]
     },
     "execution_count": 2,
     "metadata": {},
     "output_type": "execute_result"
    }
   ],
   "source": [
    "import mlflow\n",
    "\n",
    "# to hook up with MLFlow UI\n",
    "mlflow.set_tracking_uri(\"sqlite:///mlflow.db\")\n",
    "mlflow.set_experiment(\"mlops_nyc_taxi\") # choose a name for your experiment"
   ]
  },
  {
   "cell_type": "code",
   "execution_count": 3,
   "id": "f5bbf109e081c7bb",
   "metadata": {
    "ExecuteTime": {
     "end_time": "2025-03-16T12:41:30.570575Z",
     "start_time": "2025-03-16T12:41:23.303737Z"
    },
    "collapsed": false
   },
   "outputs": [
    {
     "name": "stdout",
     "output_type": "stream",
     "text": [
      "\n",
      "\n",
      "\n",
      "\u001b7\u001b[1A\u001b[1G\u001b[27G[Files: 0  Bytes: 0  [0 B/s] Re]\u001b8\u001b7\u001b[2A\u001b[1G\u001b[27G[https://d37ci6vzurychx.cloudfr]\u001b8\u001b7\u001b[3A\u001b[1G\u001b[27G[https://d37ci6vzurychx.cloudfr]\u001b8\u001b7\u001b[1S\u001b[4A\u001b[1G\u001b[0JSaving 'yellow_tripdata_2022-01.parquet.1'\n",
      "\u001b8\u001b7\u001b[1S\u001b[4A\u001b[1G\u001b[0JSaving 'yellow_tripdata_2022-02.parquet.1'\n",
      "\u001b8\u001b7\u001b[2A\u001b[1Gyellow_tripdata_2022   0% [>                             ]   15.64K    --.-KB/s\u001b8\u001b7\u001b[3A\u001b[1Gyellow_tripdata_2022   0% [>                             ]   31.61K    --.-KB/s\u001b8\u001b7\u001b[2A\u001b[1Gyellow_tripdata_2022   0% [>                             ]   63.59K  290.58KB/s\u001b8\u001b7\u001b[1A\u001b[1G\u001b[27G[Files: 0  Bytes: 0  [0 B/s] Re]\u001b8\u001b7\u001b[3A\u001b[1Gyellow_tripdata_2022   4% [>                             ]    2.02M    1.99MB/s\u001b8\u001b7\u001b[2A\u001b[1Gyellow_tripdata_2022   7% [=>                            ]    2.77M    2.37MB/s\u001b8\u001b7\u001b[1A\u001b[1G\u001b[27G[Files: 0  Bytes: 0  [0 B/s] Re]\u001b8\u001b7\u001b[3A\u001b[1Gyellow_tripdata_2022  26% [======>                       ]   11.33M    5.65MB/s\u001b8\u001b7\u001b[2A\u001b[1Gyellow_tripdata_2022  38% [==========>                   ]   13.84M    6.38MB/s\u001b8\u001b7\u001b[1A\u001b[1G\u001b[27G[Files: 0  Bytes: 0  [0 B/s] Re]\u001b8\u001b7\u001b[1A\u001b[1G\u001b[27G[Files: 0  Bytes: 0  [0 B/s] Re]\u001b8\u001b7\u001b[3A\u001b[1Gyellow_tripdata_2022  45% [============>                 ]   19.85M    6.60MB/s\u001b8\u001b7\u001b[2A\u001b[1Gyellow_tripdata_2022  63% [==================>           ]   23.20M    7.32MB/s\u001b8\u001b7\u001b[1A\u001b[1G\u001b[27G[Files: 0  Bytes: 0  [0 B/s] Re]\u001b8\u001b7\u001b[3A\u001b[1Gyellow_tripdata_2022  70% [====================>         ]   30.81M    7.69MB/s\u001b8\u001b7\u001b[2A\u001b[1Gyellow_tripdata_2022  96% [===========================>  ]   35.09M    8.42MB/s\u001b8\u001b7\u001b[2A\u001b[1Gyellow_tripdata_2022 100% [=============================>]   36.37M    8.37MB/s\u001b8\u001b7\u001b[1S\u001b[4A\u001b[1G\u001b[0JHTTP response 200  [https://d37ci6vzurychx.cloudfront.net/trip-data/yellow_tripdata_2022-01.parquet]\n",
      "\u001b8\u001b7\u001b[3A\u001b[1Gyellow_tripdata_2022  73% [=====================>        ]   31.98M    7.65MB/s\u001b8\u001b7\u001b[2A\u001b[1Gyellow_tripdata_2022 100% [=============================>]   36.37M    8.37MB/s\u001b8\u001b7\u001b[1A\u001b[1G\u001b[27G[Files: 1  Bytes: 36.37M [7.02M]\u001b8\u001b7\u001b[1A\u001b[1G\u001b[27G[Files: 1  Bytes: 36.37M [6.06M]\u001b8\u001b7\u001b[3A\u001b[1Gyellow_tripdata_2022  97% [============================> ]   42.26M    8.44MB/s\u001b8\u001b7\u001b[3A\u001b[1Gyellow_tripdata_2022 100% [=============================>]   43.50M    8.55MB/s\u001b8\u001b7\u001b[1S\u001b[4A\u001b[1G\u001b[0JHTTP response 200  [https://d37ci6vzurychx.cloudfront.net/trip-data/yellow_tripdata_2022-02.parquet]\n",
      "\u001b8\u001b7\u001b[3A\u001b[1Gyellow_tripdata_2022 100% [=============================>]   43.50M    8.55MB/s\u001b8\u001b7\u001b[1A\u001b[1G\u001b[27G[Files: 2  Bytes: 79.87M [13.12]\u001b8\u001b[m\u001b[m\u001b[m\u001b[m"
     ]
    }
   ],
   "source": [
    "!wget https://d37ci6vzurychx.cloudfront.net/trip-data/yellow_tripdata_2022-01.parquet https://d37ci6vzurychx.cloudfront.net/trip-data/yellow_tripdata_2022-02.parquet"
   ]
  },
  {
   "cell_type": "code",
   "execution_count": 3,
   "id": "6b2c8a8a4369d6c2",
   "metadata": {
    "ExecuteTime": {
     "end_time": "2025-03-16T12:42:23.438189Z",
     "start_time": "2025-03-16T12:42:23.435710Z"
    },
    "collapsed": false
   },
   "outputs": [],
   "source": [
    "def read_dataframe(filename):\n",
    "    if filename.endswith('.csv'):\n",
    "        df = pd.read_csv(filename)\n",
    "\n",
    "        df.tpep_dropoff_datetime = pd.to_datetime(df.tpep_dropoff_datetime)\n",
    "        df.tpep_pickup_datetime = pd.to_datetime(df.tpep_pickup_datetime)\n",
    "    elif filename.endswith('.parquet'):\n",
    "        df = pd.read_parquet(filename)\n",
    "\n",
    "    df['duration'] = df.tpep_dropoff_datetime - df.tpep_pickup_datetime\n",
    "    df.duration = df.duration.apply(lambda td: td.total_seconds() / 60)\n",
    "\n",
    "    df = df[(df.duration >= 1) & (df.duration <= 60)]\n",
    "\n",
    "    categorical = ['PULocationID', 'DOLocationID']\n",
    "    df[categorical] = df[categorical].astype(str)\n",
    "    \n",
    "    return df"
   ]
  },
  {
   "cell_type": "code",
   "execution_count": 4,
   "id": "f4a3eb6595cc7c02",
   "metadata": {
    "ExecuteTime": {
     "end_time": "2025-03-16T12:42:46.238750Z",
     "start_time": "2025-03-16T12:42:36.808654Z"
    },
    "collapsed": false
   },
   "outputs": [],
   "source": [
    "df_train = read_dataframe('yellow_tripdata_2022-01.parquet')\n",
    "df_val = read_dataframe('yellow_tripdata_2022-02.parquet')"
   ]
  },
  {
   "cell_type": "code",
   "execution_count": 5,
   "id": "d4f71a57fffaba5c",
   "metadata": {
    "ExecuteTime": {
     "end_time": "2025-03-16T12:42:49.836736Z",
     "start_time": "2025-03-16T12:42:49.833180Z"
    },
    "collapsed": false
   },
   "outputs": [
    {
     "data": {
      "text/plain": [
       "(2421440, 2918187)"
      ]
     },
     "execution_count": 5,
     "metadata": {},
     "output_type": "execute_result"
    }
   ],
   "source": [
    "len(df_train), len(df_val)"
   ]
  },
  {
   "cell_type": "code",
   "execution_count": 6,
   "id": "900a478304cd48c0",
   "metadata": {
    "ExecuteTime": {
     "end_time": "2025-03-16T12:45:26.486302Z",
     "start_time": "2025-03-16T12:45:25.558122Z"
    },
    "collapsed": false
   },
   "outputs": [],
   "source": [
    "df_train['PU_DO'] = df_train['PULocationID'] + '_' + df_train['DOLocationID']\n",
    "df_val['PU_DO'] = df_val['PULocationID'] + '_' + df_val['DOLocationID']"
   ]
  },
  {
   "cell_type": "code",
   "execution_count": 7,
   "id": "8b7f78edf56843c8",
   "metadata": {
    "ExecuteTime": {
     "end_time": "2025-03-16T12:45:44.967760Z",
     "start_time": "2025-03-16T12:45:34.871580Z"
    },
    "collapsed": false
   },
   "outputs": [],
   "source": [
    "categorical = ['PU_DO'] #'PULocationID', 'DOLocationID']\n",
    "numerical = ['trip_distance']\n",
    "\n",
    "dv = DictVectorizer()\n",
    "\n",
    "train_dicts = df_train[categorical + numerical].to_dict(orient='records')\n",
    "X_train = dv.fit_transform(train_dicts)\n",
    "\n",
    "val_dicts = df_val[categorical + numerical].to_dict(orient='records')\n",
    "X_val = dv.transform(val_dicts)"
   ]
  },
  {
   "cell_type": "code",
   "execution_count": 8,
   "id": "6097f8a680f5474f",
   "metadata": {
    "ExecuteTime": {
     "end_time": "2025-03-16T12:45:47.220635Z",
     "start_time": "2025-03-16T12:45:47.216488Z"
    },
    "collapsed": false
   },
   "outputs": [],
   "source": [
    "target = 'duration'\n",
    "y_train = df_train[target].values\n",
    "y_val = df_val[target].values"
   ]
  },
  {
   "cell_type": "code",
   "execution_count": 13,
   "id": "c37cf9c03e797939",
   "metadata": {
    "ExecuteTime": {
     "end_time": "2025-03-16T12:46:57.688380Z",
     "start_time": "2025-03-16T12:46:56.540954Z"
    },
    "collapsed": false
   },
   "outputs": [
    {
     "name": "stderr",
     "output_type": "stream",
     "text": [
      "2025/03/27 02:17:37 WARNING mlflow.utils.environment: Failed to resolve installed pip version. ``pip`` will be added to conda.yaml environment spec without a version specifier.\n",
      "Successfully registered model 'linear-regression-model'.\n",
      "Created version '1' of model 'linear-regression-model'.\n"
     ]
    }
   ],
   "source": [
    "with mlflow.start_run():\n",
    "    mlflow.set_tag(\"model\", \"linear_regression\")\n",
    "    \n",
    "    lr = LinearRegression()\n",
    "    lr.fit(X_train, y_train)\n",
    "    \n",
    "    y_pred = lr.predict(X_val)\n",
    "    rmse = root_mean_squared_error(y_val, y_pred)\n",
    "    \n",
    "    mlflow.log_metric(\"rmse\", rmse)\n",
    "    \n",
    "    signature = infer_signature(X_val, y_pred)\n",
    "    \n",
    "    mlflow.sklearn.log_model(\n",
    "        lr, \n",
    "        artifact_path=\"models_mlflow\",\n",
    "        signature=signature,\n",
    "        input_example=X_val[:5],\n",
    "        registered_model_name=\"linear-regression-model\"\n",
    "    )\n",
    "    \n",
    "    with open(\"preprocessor.b\", \"wb\") as f_out:\n",
    "        pickle.dump(dv, f_out)\n",
    "    \n",
    "    mlflow.log_artifact(\"preprocessor.b\", artifact_path=\"preprocessor\")\n",
    "    \n",
    "    with open('./lin_reg.bin', 'wb') as f_out:\n",
    "        pickle.dump((dv, lr), f_out)\n",
    "    \n",
    "    mlflow.log_artifact(\"lin_reg.bin\", artifact_path=\"models_pickle\")"
   ]
  },
  {
   "cell_type": "code",
   "execution_count": 15,
   "id": "1f3a2e0f357bdd85",
   "metadata": {
    "ExecuteTime": {
     "end_time": "2025-03-16T12:50:43.574578Z",
     "start_time": "2025-03-16T12:50:42.913133Z"
    },
    "collapsed": false
   },
   "outputs": [],
   "source": [
    "# import required modules\n",
    "import xgboost as xgb\n",
    "\n",
    "from hyperopt import fmin, tpe, hp, STATUS_OK, Trials # some methods to optimize hyperparameters\n",
    "from hyperopt.pyll import scope"
   ]
  },
  {
   "cell_type": "code",
   "execution_count": 18,
   "id": "31176e7788771624",
   "metadata": {
    "ExecuteTime": {
     "end_time": "2025-03-16T15:11:38.731228Z",
     "start_time": "2025-03-16T15:11:20.019015Z"
    },
    "collapsed": false
   },
   "outputs": [
    {
     "name": "stdout",
     "output_type": "stream",
     "text": [
      "100%|██████████| 3/3 [04:37<00:00, 92.56s/trial, best loss: 5.255648033980309]\n",
      "{'learning_rate': 0.26209557267353656, 'max_depth': 7, 'min_child_weight': 1.0521494072255497, 'reg_alpha': 0.02283373056043026, 'reg_lambda': 0.8489942403027806, 'objective': 'reg:squarederror', 'seed': 42}\n",
      "[0]\tvalidation-rmse:8.14535\n",
      "[1]\tvalidation-rmse:7.11355\n",
      "[2]\tvalidation-rmse:6.44971\n",
      "[3]\tvalidation-rmse:6.03123\n",
      "[4]\tvalidation-rmse:5.77029\n",
      "[5]\tvalidation-rmse:5.60739\n",
      "[6]\tvalidation-rmse:5.50314\n",
      "[7]\tvalidation-rmse:5.43633\n",
      "[8]\tvalidation-rmse:5.39175\n",
      "[9]\tvalidation-rmse:5.36122\n",
      "[10]\tvalidation-rmse:5.33969\n",
      "[11]\tvalidation-rmse:5.32524\n",
      "[12]\tvalidation-rmse:5.31472\n",
      "[13]\tvalidation-rmse:5.30596\n",
      "[14]\tvalidation-rmse:5.30016\n",
      "[15]\tvalidation-rmse:5.29501\n",
      "[16]\tvalidation-rmse:5.29353\n",
      "[17]\tvalidation-rmse:5.29237\n",
      "[18]\tvalidation-rmse:5.29112\n",
      "[19]\tvalidation-rmse:5.28758\n",
      "[20]\tvalidation-rmse:5.28616\n",
      "[21]\tvalidation-rmse:5.28510\n",
      "[22]\tvalidation-rmse:5.28384\n",
      "[23]\tvalidation-rmse:5.28050\n",
      "[24]\tvalidation-rmse:5.27959\n",
      "[25]\tvalidation-rmse:5.27839\n",
      "[26]\tvalidation-rmse:5.27724\n",
      "[27]\tvalidation-rmse:5.27600\n",
      "[28]\tvalidation-rmse:5.27480\n",
      "[29]\tvalidation-rmse:5.27348\n",
      "[30]\tvalidation-rmse:5.27258\n",
      "[31]\tvalidation-rmse:5.27173\n",
      "[32]\tvalidation-rmse:5.27077\n",
      "[33]\tvalidation-rmse:5.26992\n",
      "[34]\tvalidation-rmse:5.26883\n",
      "[35]\tvalidation-rmse:5.26777\n",
      "[36]\tvalidation-rmse:5.26687\n",
      "[37]\tvalidation-rmse:5.26594\n",
      "[38]\tvalidation-rmse:5.26413\n",
      "[39]\tvalidation-rmse:5.26325\n",
      "[40]\tvalidation-rmse:5.26251\n",
      "[41]\tvalidation-rmse:5.26137\n",
      "[42]\tvalidation-rmse:5.26055\n",
      "[43]\tvalidation-rmse:5.25962\n",
      "[44]\tvalidation-rmse:5.25883\n",
      "[45]\tvalidation-rmse:5.25657\n",
      "[46]\tvalidation-rmse:5.25600\n",
      "[47]\tvalidation-rmse:5.25509\n",
      "[48]\tvalidation-rmse:5.25413\n",
      "[49]\tvalidation-rmse:5.25352\n",
      "[50]\tvalidation-rmse:5.25270\n",
      "[51]\tvalidation-rmse:5.25176\n",
      "[52]\tvalidation-rmse:5.25111\n",
      "[53]\tvalidation-rmse:5.25032\n",
      "[54]\tvalidation-rmse:5.24942\n",
      "[55]\tvalidation-rmse:5.24873\n",
      "[56]\tvalidation-rmse:5.24795\n",
      "[57]\tvalidation-rmse:5.24605\n",
      "[58]\tvalidation-rmse:5.24538\n",
      "[59]\tvalidation-rmse:5.24447\n",
      "[60]\tvalidation-rmse:5.24388\n",
      "[61]\tvalidation-rmse:5.24304\n",
      "[62]\tvalidation-rmse:5.24191\n",
      "[63]\tvalidation-rmse:5.24101\n",
      "[64]\tvalidation-rmse:5.24008\n",
      "[65]\tvalidation-rmse:5.23922\n",
      "[66]\tvalidation-rmse:5.23834\n",
      "[67]\tvalidation-rmse:5.23763\n",
      "[68]\tvalidation-rmse:5.23702\n",
      "[69]\tvalidation-rmse:5.23622\n",
      "[70]\tvalidation-rmse:5.23540\n",
      "[71]\tvalidation-rmse:5.23470\n",
      "[72]\tvalidation-rmse:5.23397\n",
      "[73]\tvalidation-rmse:5.23314\n",
      "[74]\tvalidation-rmse:5.23214\n",
      "[75]\tvalidation-rmse:5.23151\n",
      "[76]\tvalidation-rmse:5.23073\n",
      "[77]\tvalidation-rmse:5.22999\n",
      "[78]\tvalidation-rmse:5.22928\n",
      "[79]\tvalidation-rmse:5.22853\n",
      "[80]\tvalidation-rmse:5.22782\n",
      "[81]\tvalidation-rmse:5.22717\n",
      "[82]\tvalidation-rmse:5.22636\n",
      "[83]\tvalidation-rmse:5.22582\n",
      "[84]\tvalidation-rmse:5.22425\n",
      "[85]\tvalidation-rmse:5.22352\n",
      "[86]\tvalidation-rmse:5.22154\n",
      "[87]\tvalidation-rmse:5.22100\n",
      "[88]\tvalidation-rmse:5.22030\n",
      "[89]\tvalidation-rmse:5.21961\n",
      "[90]\tvalidation-rmse:5.21903\n",
      "[91]\tvalidation-rmse:5.21806\n",
      "[92]\tvalidation-rmse:5.21736\n",
      "[93]\tvalidation-rmse:5.21669\n",
      "[94]\tvalidation-rmse:5.21604\n",
      "[95]\tvalidation-rmse:5.21553\n",
      "[96]\tvalidation-rmse:5.21494\n",
      "[97]\tvalidation-rmse:5.21441\n",
      "[98]\tvalidation-rmse:5.21393\n",
      "[99]\tvalidation-rmse:5.21333\n"
     ]
    },
    {
     "name": "stderr",
     "output_type": "stream",
     "text": [
      "/home/chogerlate/Documents/github/cpe393/cpe393-mlflow/.venv/lib/python3.10/site-packages/mlflow/xgboost/__init__.py:168: UserWarning: [02:42:45] WARNING: /workspace/src/c_api/c_api.cc:1427: Saving model in the UBJSON format as default.  You can use file extension: `json`, `ubj` or `deprecated` to choose between formats.\n",
      "  xgb_model.save_model(model_data_path)\n",
      "2025/03/27 02:42:51 WARNING mlflow.utils.environment: Failed to resolve installed pip version. ``pip`` will be added to conda.yaml environment spec without a version specifier.\n"
     ]
    }
   ],
   "source": [
    "search_space = {\n",
    "    'max_depth': scope.int(hp.quniform('max_depth', 3, 10, 1)),\n",
    "    'learning_rate': hp.loguniform('learning_rate', -3, -0.5),\n",
    "    'reg_alpha': hp.loguniform('reg_alpha', -5, 0),\n",
    "    'reg_lambda': hp.loguniform('reg_lambda', -5, 0),\n",
    "    'min_child_weight': hp.loguniform('min_child_weight', -1, 2),\n",
    "    'subsample': hp.uniform('subsample', 0.6, 1.0),\n",
    "    'colsample_bytree': hp.uniform('colsample_bytree', 0.6, 1.0),\n",
    "    'objective': 'reg:squarederror',\n",
    "    'seed': 42\n",
    "}\n",
    "\n",
    "def objective(params):\n",
    "    with mlflow.start_run(nested=True):\n",
    "        mlflow.set_tag(\"model\", \"xgboost\")\n",
    "        mlflow.log_params(params)\n",
    "        \n",
    "        train = xgb.DMatrix(X_train, label=y_train)\n",
    "        valid = xgb.DMatrix(X_val, label=y_val)\n",
    "        \n",
    "        booster = xgb.train(\n",
    "            params=params,\n",
    "            dtrain=train,\n",
    "            num_boost_round=50,\n",
    "            evals=[(valid, 'validation')],\n",
    "            early_stopping_rounds=5,\n",
    "            verbose_eval=False\n",
    "        )\n",
    "        \n",
    "        y_pred = booster.predict(valid)\n",
    "        rmse = root_mean_squared_error(y_val, y_pred)\n",
    "        mlflow.log_metric(\"rmse\", rmse)\n",
    "        \n",
    "        return {'loss': rmse, 'status': STATUS_OK, 'model': booster}\n",
    "\n",
    "trials = Trials()\n",
    "best_result = fmin(\n",
    "    fn=objective,\n",
    "    space=search_space,\n",
    "    algo=tpe.suggest,\n",
    "    max_evals=3,\n",
    "    trials=trials\n",
    ")\n",
    "\n",
    "best_params = {\n",
    "    'learning_rate': float(best_result['learning_rate']),\n",
    "    'max_depth': int(best_result['max_depth']),\n",
    "    'min_child_weight': float(best_result['min_child_weight']),\n",
    "    'reg_alpha': float(best_result['reg_alpha']),\n",
    "    'reg_lambda': float(best_result['reg_lambda']),\n",
    "    'objective': 'reg:squarederror',\n",
    "    'seed': 42\n",
    "}\n",
    "\n",
    "print(best_params)\n",
    "\n",
    "with mlflow.start_run():\n",
    "    train = xgb.DMatrix(X_train, label=y_train)\n",
    "    valid = xgb.DMatrix(X_val, label=y_val)\n",
    "    \n",
    "    mlflow.log_params(best_params)\n",
    "    \n",
    "    booster = xgb.train(\n",
    "        params=best_params,\n",
    "        dtrain=train,\n",
    "        num_boost_round=100,\n",
    "        evals=[(valid, 'validation')],\n",
    "        early_stopping_rounds=5\n",
    "    )\n",
    "    \n",
    "    y_pred = booster.predict(valid)\n",
    "    signature = infer_signature(X_val, y_pred)\n",
    "    rmse = root_mean_squared_error(y_val, y_pred)\n",
    "    mlflow.log_metric(\"rmse\", rmse)\n",
    "    \n",
    "    with open(\"preprocessor.b\", \"wb\") as f_out:\n",
    "        pickle.dump(dv, f_out)\n",
    "    \n",
    "    mlflow.log_artifact(\"preprocessor.b\", artifact_path=\"preprocessor\")\n",
    "    mlflow.xgboost.log_model(booster, artifact_path=\"models_mlflow\", signature=signature)\n"
   ]
  }
 ],
 "metadata": {
  "kernelspec": {
   "display_name": ".venv",
   "language": "python",
   "name": "python3"
  },
  "language_info": {
   "codemirror_mode": {
    "name": "ipython",
    "version": 3
   },
   "file_extension": ".py",
   "mimetype": "text/x-python",
   "name": "python",
   "nbconvert_exporter": "python",
   "pygments_lexer": "ipython3",
   "version": "3.10.14"
  }
 },
 "nbformat": 4,
 "nbformat_minor": 5
}
